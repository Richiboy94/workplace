{
  "nbformat": 4,
  "nbformat_minor": 0,
  "metadata": {
    "colab": {
      "provenance": [],
      "authorship_tag": "ABX9TyPVRXEaSyryrr0pvsfD6Ez7",
      "include_colab_link": true
    },
    "kernelspec": {
      "name": "python3",
      "display_name": "Python 3"
    },
    "language_info": {
      "name": "python"
    }
  },
  "cells": [
    {
      "cell_type": "markdown",
      "metadata": {
        "id": "view-in-github",
        "colab_type": "text"
      },
      "source": [
        "<a href=\"https://colab.research.google.com/github/Richiboy94/workplace/blob/main/rfm.ipynb\" target=\"_parent\"><img src=\"https://colab.research.google.com/assets/colab-badge.svg\" alt=\"Open In Colab\"/></a>"
      ]
    },
    {
      "cell_type": "code",
      "execution_count": 5,
      "metadata": {
        "id": "9H9bQyIrt6_p"
      },
      "outputs": [],
      "source": [
        "# Ignore warnings\n",
        "import warnings\n",
        "warnings.filterwarnings('ignore')\n",
        "\n",
        "import numpy as np\n",
        "import pandas as pd\n",
        "import seaborn as sns\n",
        "import matplotlib.pyplot as plt\n",
        "import matplotlib.gridspec as gridspec\n",
        "import plotly.graph_objects as go\n",
        "from matplotlib.colors import LinearSegmentedColormap\n",
        "from matplotlib import colors as mcolors\n",
        "from scipy.stats import linregress\n",
        "from sklearn.ensemble import IsolationForest\n",
        "from sklearn.preprocessing import StandardScaler\n",
        "from sklearn.decomposition import PCA\n",
        "from yellowbrick.cluster import KElbowVisualizer, SilhouetteVisualizer\n",
        "from sklearn.metrics import silhouette_score, calinski_harabasz_score, davies_bouldin_score\n",
        "from sklearn.cluster import KMeans\n",
        "from tabulate import tabulate\n",
        "from collections import Counter\n",
        "\n",
        "%matplotlib inline"
      ]
    },
    {
      "cell_type": "code",
      "source": [
        "from google.colab import drive\n",
        "drive.mount('/content/drive')"
      ],
      "metadata": {
        "colab": {
          "base_uri": "https://localhost:8080/"
        },
        "id": "IwFWOJLYubpY",
        "outputId": "12750539-edfc-4348-ed17-1d95a88af007"
      },
      "execution_count": 6,
      "outputs": [
        {
          "output_type": "stream",
          "name": "stdout",
          "text": [
            "Mounted at /content/drive\n"
          ]
        }
      ]
    },
    {
      "cell_type": "markdown",
      "source": [
        "**Step 1.2 | Loading the Dataset**"
      ],
      "metadata": {
        "id": "jhhP70a8uitw"
      }
    },
    {
      "cell_type": "code",
      "source": [
        "# Cargar el dataset\n",
        "df = pd.read_csv(\"/content/drive/MyDrive/CAMBIX/RFM/RFM_Cambix_31.03.24.csv\", sep=';')"
      ],
      "metadata": {
        "id": "_jCSi75Fucll"
      },
      "execution_count": 7,
      "outputs": []
    },
    {
      "cell_type": "markdown",
      "source": [
        "**Paso 2.1 | Visión General del Conjunto de Datos**"
      ],
      "metadata": {
        "id": "7224glSru5t1"
      }
    },
    {
      "cell_type": "code",
      "source": [
        "# Filtrar los datos donde 'Recency' es menor o igual a 365 y mayor que 0\n",
        "df_filtrado = df[(df['Recency'] <= 365.00) & (df['Recency'] > 0.00)]\n",
        "df_x=df_filtrado"
      ],
      "metadata": {
        "id": "wm9BtycJuuB_"
      },
      "execution_count": 10,
      "outputs": []
    },
    {
      "cell_type": "markdown",
      "source": [
        "**Step 3.1 | Outlier Detection and Treatment**"
      ],
      "metadata": {
        "id": "WfUI7av6vpMc"
      }
    },
    {
      "cell_type": "code",
      "source": [
        "# Inicializando el modelo IsolationForest con un parámetro de contaminación de 0.05\n",
        "modelo = IsolationForest(contamination=0.05, random_state=0)\n",
        "\n",
        "# Ajustando el modelo a nuestro conjunto de datos (convirtiendo el DataFrame a NumPy para evitar advertencias)\n",
        "df_x['Puntuaciones_Valores_Atípicos'] = modelo.fit_predict(df_x.iloc[:, 1:].to_numpy())\n",
        "\n",
        "# Creando una nueva columna para identificar valores atípicos (1 para valores normales y -1 para valores atípicos)\n",
        "df_x['Es_Atípico'] = [1 if x == -1 else 0 for x in df_x['Puntuaciones_Valores_Atípicos']]\n"
      ],
      "metadata": {
        "id": "cxdWkGc8vijN"
      },
      "execution_count": 11,
      "outputs": []
    },
    {
      "cell_type": "code",
      "source": [
        "from sklearn.ensemble import IsolationForest\n",
        "\n",
        "def remover_atípicos(df_x):\n",
        "    # Configurar el modelo Isolation Forest\n",
        "    clf = IsolationForest(contamination=0.05, random_state=42)\n",
        "\n",
        "    # Ajustar el modelo y obtener las predicciones de valores atípicos (-1 para valores atípicos, 1 para valores normales)\n",
        "    predicciones_atípicos = clf.fit_predict(df_x)\n",
        "\n",
        "    # Filtrar solo los valores normales (1) y eliminar los outliers (-1)\n",
        "    df_sin_atípicos = df_x[predicciones_atípicos == 1]\n",
        "\n",
        "    return df_sin_atípicos\n"
      ],
      "metadata": {
        "id": "SCp_MTreypcF"
      },
      "execution_count": 12,
      "outputs": []
    },
    {
      "cell_type": "code",
      "source": [
        "# Aplicar la función a tu conjunto de datos\n",
        "df_y = remover_atípicos(df_x)"
      ],
      "metadata": {
        "id": "n4cpBXWxzTz2"
      },
      "execution_count": 13,
      "outputs": []
    },
    {
      "cell_type": "markdown",
      "source": [
        "# **Segmentación RFM**"
      ],
      "metadata": {
        "id": "Dd_ES-97z10L"
      }
    },
    {
      "cell_type": "code",
      "source": [
        "# Puntuación de recencia: 1 (muy malo) para aquellos con más días desde la última compra y 5 (muy bueno) para los que tienen menos días.\n",
        "df_y[\"recency_score\"] = pd.qcut(df_y['Recency'], 5, labels=[5, 4, 3, 2, 1])\n",
        "\n",
        "# Puntuación de frecuencia: 5 (muy bueno) para aquellos con alta frecuencia de compra y 1 (muy malo) para los que tienen menos frecuencia.\n",
        "df_y[\"frequency_score\"] = pd.qcut(df_y['Operaciones'].rank(method=\"first\"), 5, labels=[1, 2, 3, 4, 5])\n",
        "\n",
        "# Puntuación monetaria: 5 (muy bueno) para aquellos con un alto valor de compra y 1 (muy malo) para los que tienen un valor de compra menor.\n",
        "df_y[\"monetary_score\"] = pd.qcut(df_y['MontoAcumulado'], 5, labels=[1, 2, 3, 4, 5])\n",
        "\n",
        "# No incluiremos monetary_score.\n",
        "df_y[\"RFM_SCORE\"] = (df_y['recency_score'].astype(str)+df_y['frequency_score'].astype(str) + df_y['monetary_score'].astype(str))\n"
      ],
      "metadata": {
        "id": "siVRVGXwzzSf"
      },
      "execution_count": 14,
      "outputs": []
    },
    {
      "cell_type": "code",
      "source": [
        "seg_map = {\n",
        "r'[1-2][1-4][1-2]': 'hibernating',\n",
        "    r'[1-2][1-4][3-5]': 'at_Risk',\n",
        "    r'[1-2][5][1-5]': 'cant_loose',\n",
        "    r'[3-4][4-5][1-5]': 'Loyal',\n",
        "        r'[3-4][1-3][1-5]': 'Needs Attention',\n",
        "r'5[1-3][1-5]': 'promising',\n",
        "    r'5[4-5][1-4]': 'potential_loyalists',\n",
        "    r'5[4-5][5]': 'Champions'\n",
        "}\n",
        "# Crear la columna 'segment' en customer_data\n",
        "df_y['segmento'] = df_y['RFM_SCORE'].replace(seg_map, regex=True)\n",
        "if 'level_0' in df_y.columns:\n",
        "    df_y.drop(columns=['level_0'], inplace=True)\n",
        "df_y.reset_index(inplace=True)"
      ],
      "metadata": {
        "colab": {
          "base_uri": "https://localhost:8080/",
          "height": 206
        },
        "id": "v6hNJSKj0WJN",
        "outputId": "886bd272-2aa3-4286-ba92-16e8f2a2ddbf"
      },
      "execution_count": 15,
      "outputs": [
        {
          "output_type": "execute_result",
          "data": {
            "text/plain": [
              "   index  Num_Usuario  Operaciones  MontoAcumulado    Recency  \\\n",
              "0     26        11445           51         8244.00   4.324925   \n",
              "1     34          186           40        17148.18  64.495082   \n",
              "2     36          111           38        15321.00  20.298330   \n",
              "3     38          225           37         5555.87  51.336042   \n",
              "4     39         1561           34        27136.14  32.226998   \n",
              "\n",
              "   Puntuaciones_Valores_Atípicos  Es_Atípico recency_score frequency_score  \\\n",
              "0                              1           0             5               5   \n",
              "1                              1           0             4               5   \n",
              "2                              1           0             5               5   \n",
              "3                              1           0             5               5   \n",
              "4                              1           0             5               5   \n",
              "\n",
              "  monetary_score RFM_SCORE   segmento  \n",
              "0              5       555  Champions  \n",
              "1              5       455      Loyal  \n",
              "2              5       555  Champions  \n",
              "3              5       555  Champions  \n",
              "4              5       555  Champions  "
            ],
            "text/html": [
              "\n",
              "  <div id=\"df-38ceba9b-5a40-4270-a4d5-0ba1b75066a3\" class=\"colab-df-container\">\n",
              "    <div>\n",
              "<style scoped>\n",
              "    .dataframe tbody tr th:only-of-type {\n",
              "        vertical-align: middle;\n",
              "    }\n",
              "\n",
              "    .dataframe tbody tr th {\n",
              "        vertical-align: top;\n",
              "    }\n",
              "\n",
              "    .dataframe thead th {\n",
              "        text-align: right;\n",
              "    }\n",
              "</style>\n",
              "<table border=\"1\" class=\"dataframe\">\n",
              "  <thead>\n",
              "    <tr style=\"text-align: right;\">\n",
              "      <th></th>\n",
              "      <th>index</th>\n",
              "      <th>Num_Usuario</th>\n",
              "      <th>Operaciones</th>\n",
              "      <th>MontoAcumulado</th>\n",
              "      <th>Recency</th>\n",
              "      <th>Puntuaciones_Valores_Atípicos</th>\n",
              "      <th>Es_Atípico</th>\n",
              "      <th>recency_score</th>\n",
              "      <th>frequency_score</th>\n",
              "      <th>monetary_score</th>\n",
              "      <th>RFM_SCORE</th>\n",
              "      <th>segmento</th>\n",
              "    </tr>\n",
              "  </thead>\n",
              "  <tbody>\n",
              "    <tr>\n",
              "      <th>0</th>\n",
              "      <td>26</td>\n",
              "      <td>11445</td>\n",
              "      <td>51</td>\n",
              "      <td>8244.00</td>\n",
              "      <td>4.324925</td>\n",
              "      <td>1</td>\n",
              "      <td>0</td>\n",
              "      <td>5</td>\n",
              "      <td>5</td>\n",
              "      <td>5</td>\n",
              "      <td>555</td>\n",
              "      <td>Champions</td>\n",
              "    </tr>\n",
              "    <tr>\n",
              "      <th>1</th>\n",
              "      <td>34</td>\n",
              "      <td>186</td>\n",
              "      <td>40</td>\n",
              "      <td>17148.18</td>\n",
              "      <td>64.495082</td>\n",
              "      <td>1</td>\n",
              "      <td>0</td>\n",
              "      <td>4</td>\n",
              "      <td>5</td>\n",
              "      <td>5</td>\n",
              "      <td>455</td>\n",
              "      <td>Loyal</td>\n",
              "    </tr>\n",
              "    <tr>\n",
              "      <th>2</th>\n",
              "      <td>36</td>\n",
              "      <td>111</td>\n",
              "      <td>38</td>\n",
              "      <td>15321.00</td>\n",
              "      <td>20.298330</td>\n",
              "      <td>1</td>\n",
              "      <td>0</td>\n",
              "      <td>5</td>\n",
              "      <td>5</td>\n",
              "      <td>5</td>\n",
              "      <td>555</td>\n",
              "      <td>Champions</td>\n",
              "    </tr>\n",
              "    <tr>\n",
              "      <th>3</th>\n",
              "      <td>38</td>\n",
              "      <td>225</td>\n",
              "      <td>37</td>\n",
              "      <td>5555.87</td>\n",
              "      <td>51.336042</td>\n",
              "      <td>1</td>\n",
              "      <td>0</td>\n",
              "      <td>5</td>\n",
              "      <td>5</td>\n",
              "      <td>5</td>\n",
              "      <td>555</td>\n",
              "      <td>Champions</td>\n",
              "    </tr>\n",
              "    <tr>\n",
              "      <th>4</th>\n",
              "      <td>39</td>\n",
              "      <td>1561</td>\n",
              "      <td>34</td>\n",
              "      <td>27136.14</td>\n",
              "      <td>32.226998</td>\n",
              "      <td>1</td>\n",
              "      <td>0</td>\n",
              "      <td>5</td>\n",
              "      <td>5</td>\n",
              "      <td>5</td>\n",
              "      <td>555</td>\n",
              "      <td>Champions</td>\n",
              "    </tr>\n",
              "  </tbody>\n",
              "</table>\n",
              "</div>\n",
              "    <div class=\"colab-df-buttons\">\n",
              "\n",
              "  <div class=\"colab-df-container\">\n",
              "    <button class=\"colab-df-convert\" onclick=\"convertToInteractive('df-38ceba9b-5a40-4270-a4d5-0ba1b75066a3')\"\n",
              "            title=\"Convert this dataframe to an interactive table.\"\n",
              "            style=\"display:none;\">\n",
              "\n",
              "  <svg xmlns=\"http://www.w3.org/2000/svg\" height=\"24px\" viewBox=\"0 -960 960 960\">\n",
              "    <path d=\"M120-120v-720h720v720H120Zm60-500h600v-160H180v160Zm220 220h160v-160H400v160Zm0 220h160v-160H400v160ZM180-400h160v-160H180v160Zm440 0h160v-160H620v160ZM180-180h160v-160H180v160Zm440 0h160v-160H620v160Z\"/>\n",
              "  </svg>\n",
              "    </button>\n",
              "\n",
              "  <style>\n",
              "    .colab-df-container {\n",
              "      display:flex;\n",
              "      gap: 12px;\n",
              "    }\n",
              "\n",
              "    .colab-df-convert {\n",
              "      background-color: #E8F0FE;\n",
              "      border: none;\n",
              "      border-radius: 50%;\n",
              "      cursor: pointer;\n",
              "      display: none;\n",
              "      fill: #1967D2;\n",
              "      height: 32px;\n",
              "      padding: 0 0 0 0;\n",
              "      width: 32px;\n",
              "    }\n",
              "\n",
              "    .colab-df-convert:hover {\n",
              "      background-color: #E2EBFA;\n",
              "      box-shadow: 0px 1px 2px rgba(60, 64, 67, 0.3), 0px 1px 3px 1px rgba(60, 64, 67, 0.15);\n",
              "      fill: #174EA6;\n",
              "    }\n",
              "\n",
              "    .colab-df-buttons div {\n",
              "      margin-bottom: 4px;\n",
              "    }\n",
              "\n",
              "    [theme=dark] .colab-df-convert {\n",
              "      background-color: #3B4455;\n",
              "      fill: #D2E3FC;\n",
              "    }\n",
              "\n",
              "    [theme=dark] .colab-df-convert:hover {\n",
              "      background-color: #434B5C;\n",
              "      box-shadow: 0px 1px 3px 1px rgba(0, 0, 0, 0.15);\n",
              "      filter: drop-shadow(0px 1px 2px rgba(0, 0, 0, 0.3));\n",
              "      fill: #FFFFFF;\n",
              "    }\n",
              "  </style>\n",
              "\n",
              "    <script>\n",
              "      const buttonEl =\n",
              "        document.querySelector('#df-38ceba9b-5a40-4270-a4d5-0ba1b75066a3 button.colab-df-convert');\n",
              "      buttonEl.style.display =\n",
              "        google.colab.kernel.accessAllowed ? 'block' : 'none';\n",
              "\n",
              "      async function convertToInteractive(key) {\n",
              "        const element = document.querySelector('#df-38ceba9b-5a40-4270-a4d5-0ba1b75066a3');\n",
              "        const dataTable =\n",
              "          await google.colab.kernel.invokeFunction('convertToInteractive',\n",
              "                                                    [key], {});\n",
              "        if (!dataTable) return;\n",
              "\n",
              "        const docLinkHtml = 'Like what you see? Visit the ' +\n",
              "          '<a target=\"_blank\" href=https://colab.research.google.com/notebooks/data_table.ipynb>data table notebook</a>'\n",
              "          + ' to learn more about interactive tables.';\n",
              "        element.innerHTML = '';\n",
              "        dataTable['output_type'] = 'display_data';\n",
              "        await google.colab.output.renderOutput(dataTable, element);\n",
              "        const docLink = document.createElement('div');\n",
              "        docLink.innerHTML = docLinkHtml;\n",
              "        element.appendChild(docLink);\n",
              "      }\n",
              "    </script>\n",
              "  </div>\n",
              "\n",
              "\n",
              "<div id=\"df-f2f69dac-029d-4fa7-9f7d-63e75ce0f43a\">\n",
              "  <button class=\"colab-df-quickchart\" onclick=\"quickchart('df-f2f69dac-029d-4fa7-9f7d-63e75ce0f43a')\"\n",
              "            title=\"Suggest charts\"\n",
              "            style=\"display:none;\">\n",
              "\n",
              "<svg xmlns=\"http://www.w3.org/2000/svg\" height=\"24px\"viewBox=\"0 0 24 24\"\n",
              "     width=\"24px\">\n",
              "    <g>\n",
              "        <path d=\"M19 3H5c-1.1 0-2 .9-2 2v14c0 1.1.9 2 2 2h14c1.1 0 2-.9 2-2V5c0-1.1-.9-2-2-2zM9 17H7v-7h2v7zm4 0h-2V7h2v10zm4 0h-2v-4h2v4z\"/>\n",
              "    </g>\n",
              "</svg>\n",
              "  </button>\n",
              "\n",
              "<style>\n",
              "  .colab-df-quickchart {\n",
              "      --bg-color: #E8F0FE;\n",
              "      --fill-color: #1967D2;\n",
              "      --hover-bg-color: #E2EBFA;\n",
              "      --hover-fill-color: #174EA6;\n",
              "      --disabled-fill-color: #AAA;\n",
              "      --disabled-bg-color: #DDD;\n",
              "  }\n",
              "\n",
              "  [theme=dark] .colab-df-quickchart {\n",
              "      --bg-color: #3B4455;\n",
              "      --fill-color: #D2E3FC;\n",
              "      --hover-bg-color: #434B5C;\n",
              "      --hover-fill-color: #FFFFFF;\n",
              "      --disabled-bg-color: #3B4455;\n",
              "      --disabled-fill-color: #666;\n",
              "  }\n",
              "\n",
              "  .colab-df-quickchart {\n",
              "    background-color: var(--bg-color);\n",
              "    border: none;\n",
              "    border-radius: 50%;\n",
              "    cursor: pointer;\n",
              "    display: none;\n",
              "    fill: var(--fill-color);\n",
              "    height: 32px;\n",
              "    padding: 0;\n",
              "    width: 32px;\n",
              "  }\n",
              "\n",
              "  .colab-df-quickchart:hover {\n",
              "    background-color: var(--hover-bg-color);\n",
              "    box-shadow: 0 1px 2px rgba(60, 64, 67, 0.3), 0 1px 3px 1px rgba(60, 64, 67, 0.15);\n",
              "    fill: var(--button-hover-fill-color);\n",
              "  }\n",
              "\n",
              "  .colab-df-quickchart-complete:disabled,\n",
              "  .colab-df-quickchart-complete:disabled:hover {\n",
              "    background-color: var(--disabled-bg-color);\n",
              "    fill: var(--disabled-fill-color);\n",
              "    box-shadow: none;\n",
              "  }\n",
              "\n",
              "  .colab-df-spinner {\n",
              "    border: 2px solid var(--fill-color);\n",
              "    border-color: transparent;\n",
              "    border-bottom-color: var(--fill-color);\n",
              "    animation:\n",
              "      spin 1s steps(1) infinite;\n",
              "  }\n",
              "\n",
              "  @keyframes spin {\n",
              "    0% {\n",
              "      border-color: transparent;\n",
              "      border-bottom-color: var(--fill-color);\n",
              "      border-left-color: var(--fill-color);\n",
              "    }\n",
              "    20% {\n",
              "      border-color: transparent;\n",
              "      border-left-color: var(--fill-color);\n",
              "      border-top-color: var(--fill-color);\n",
              "    }\n",
              "    30% {\n",
              "      border-color: transparent;\n",
              "      border-left-color: var(--fill-color);\n",
              "      border-top-color: var(--fill-color);\n",
              "      border-right-color: var(--fill-color);\n",
              "    }\n",
              "    40% {\n",
              "      border-color: transparent;\n",
              "      border-right-color: var(--fill-color);\n",
              "      border-top-color: var(--fill-color);\n",
              "    }\n",
              "    60% {\n",
              "      border-color: transparent;\n",
              "      border-right-color: var(--fill-color);\n",
              "    }\n",
              "    80% {\n",
              "      border-color: transparent;\n",
              "      border-right-color: var(--fill-color);\n",
              "      border-bottom-color: var(--fill-color);\n",
              "    }\n",
              "    90% {\n",
              "      border-color: transparent;\n",
              "      border-bottom-color: var(--fill-color);\n",
              "    }\n",
              "  }\n",
              "</style>\n",
              "\n",
              "  <script>\n",
              "    async function quickchart(key) {\n",
              "      const quickchartButtonEl =\n",
              "        document.querySelector('#' + key + ' button');\n",
              "      quickchartButtonEl.disabled = true;  // To prevent multiple clicks.\n",
              "      quickchartButtonEl.classList.add('colab-df-spinner');\n",
              "      try {\n",
              "        const charts = await google.colab.kernel.invokeFunction(\n",
              "            'suggestCharts', [key], {});\n",
              "      } catch (error) {\n",
              "        console.error('Error during call to suggestCharts:', error);\n",
              "      }\n",
              "      quickchartButtonEl.classList.remove('colab-df-spinner');\n",
              "      quickchartButtonEl.classList.add('colab-df-quickchart-complete');\n",
              "    }\n",
              "    (() => {\n",
              "      let quickchartButtonEl =\n",
              "        document.querySelector('#df-f2f69dac-029d-4fa7-9f7d-63e75ce0f43a button');\n",
              "      quickchartButtonEl.style.display =\n",
              "        google.colab.kernel.accessAllowed ? 'block' : 'none';\n",
              "    })();\n",
              "  </script>\n",
              "</div>\n",
              "    </div>\n",
              "  </div>\n"
            ],
            "application/vnd.google.colaboratory.intrinsic+json": {
              "type": "dataframe",
              "variable_name": "df_y",
              "summary": "{\n  \"name\": \"df_y\",\n  \"rows\": 1020,\n  \"fields\": [\n    {\n      \"column\": \"index\",\n      \"properties\": {\n        \"dtype\": \"number\",\n        \"std\": 486,\n        \"min\": 26,\n        \"max\": 2107,\n        \"num_unique_values\": 1020,\n        \"samples\": [\n          897,\n          1140,\n          900\n        ],\n        \"semantic_type\": \"\",\n        \"description\": \"\"\n      }\n    },\n    {\n      \"column\": \"Num_Usuario\",\n      \"properties\": {\n        \"dtype\": \"number\",\n        \"std\": 2714,\n        \"min\": 6,\n        \"max\": 12769,\n        \"num_unique_values\": 1020,\n        \"samples\": [\n          10523,\n          12584,\n          10394\n        ],\n        \"semantic_type\": \"\",\n        \"description\": \"\"\n      }\n    },\n    {\n      \"column\": \"Operaciones\",\n      \"properties\": {\n        \"dtype\": \"number\",\n        \"std\": 6,\n        \"min\": 1,\n        \"max\": 51,\n        \"num_unique_values\": 36,\n        \"samples\": [\n          1,\n          23,\n          10\n        ],\n        \"semantic_type\": \"\",\n        \"description\": \"\"\n      }\n    },\n    {\n      \"column\": \"MontoAcumulado\",\n      \"properties\": {\n        \"dtype\": \"number\",\n        \"std\": 4742.256513044709,\n        \"min\": 20.0,\n        \"max\": 33500.0,\n        \"num_unique_values\": 709,\n        \"samples\": [\n          2010.0,\n          1548.8,\n          658.0\n        ],\n        \"semantic_type\": \"\",\n        \"description\": \"\"\n      }\n    },\n    {\n      \"column\": \"Recency\",\n      \"properties\": {\n        \"dtype\": \"number\",\n        \"std\": 102.91282020352776,\n        \"min\": 0.326818021,\n        \"max\": 364.5270783,\n        \"num_unique_values\": 1020,\n        \"samples\": [\n          294.2731063,\n          51.48310675,\n          302.358983\n        ],\n        \"semantic_type\": \"\",\n        \"description\": \"\"\n      }\n    },\n    {\n      \"column\": \"Puntuaciones_Valores_At\\u00edpicos\",\n      \"properties\": {\n        \"dtype\": \"number\",\n        \"std\": 0,\n        \"min\": 1,\n        \"max\": 1,\n        \"num_unique_values\": 1,\n        \"samples\": [\n          1\n        ],\n        \"semantic_type\": \"\",\n        \"description\": \"\"\n      }\n    },\n    {\n      \"column\": \"Es_At\\u00edpico\",\n      \"properties\": {\n        \"dtype\": \"number\",\n        \"std\": 0,\n        \"min\": 0,\n        \"max\": 0,\n        \"num_unique_values\": 1,\n        \"samples\": [\n          0\n        ],\n        \"semantic_type\": \"\",\n        \"description\": \"\"\n      }\n    },\n    {\n      \"column\": \"recency_score\",\n      \"properties\": {\n        \"dtype\": \"category\",\n        \"num_unique_values\": 5,\n        \"samples\": [\n          4\n        ],\n        \"semantic_type\": \"\",\n        \"description\": \"\"\n      }\n    },\n    {\n      \"column\": \"frequency_score\",\n      \"properties\": {\n        \"dtype\": \"category\",\n        \"num_unique_values\": 5,\n        \"samples\": [\n          4\n        ],\n        \"semantic_type\": \"\",\n        \"description\": \"\"\n      }\n    },\n    {\n      \"column\": \"monetary_score\",\n      \"properties\": {\n        \"dtype\": \"category\",\n        \"num_unique_values\": 5,\n        \"samples\": [\n          4\n        ],\n        \"semantic_type\": \"\",\n        \"description\": \"\"\n      }\n    },\n    {\n      \"column\": \"RFM_SCORE\",\n      \"properties\": {\n        \"dtype\": \"category\",\n        \"num_unique_values\": 100,\n        \"samples\": [\n          \"214\"\n        ],\n        \"semantic_type\": \"\",\n        \"description\": \"\"\n      }\n    },\n    {\n      \"column\": \"segmento\",\n      \"properties\": {\n        \"dtype\": \"category\",\n        \"num_unique_values\": 8,\n        \"samples\": [\n          \"Loyal\"\n        ],\n        \"semantic_type\": \"\",\n        \"description\": \"\"\n      }\n    }\n  ]\n}"
            }
          },
          "metadata": {},
          "execution_count": 15
        }
      ]
    },
    {
      "cell_type": "code",
      "source": [
        "from google.colab import drive\n",
        "\n",
        "# Montar Google Drive\n",
        "drive.mount('/content/drive')"
      ],
      "metadata": {
        "colab": {
          "base_uri": "https://localhost:8080/"
        },
        "id": "0YagnV2t0o41",
        "outputId": "d634b6ac-417b-4518-c6d1-f06d1f6c92e1"
      },
      "execution_count": 16,
      "outputs": [
        {
          "output_type": "stream",
          "name": "stdout",
          "text": [
            "Drive already mounted at /content/drive; to attempt to forcibly remount, call drive.mount(\"/content/drive\", force_remount=True).\n"
          ]
        }
      ]
    },
    {
      "cell_type": "code",
      "source": [
        "# Ruta donde guardar el archivo en tu Google Drive\n",
        "output_path = '/content/drive/MyDrive/CAMBIX/RFM/RFM_Cambix_End.csv'\n",
        "\n",
        "# Guarda el DataFrame como un archivo CSV\n",
        "df_y.to_csv(output_path, index=False)\n",
        "\n",
        "print(f\"Dataset exportado exitosamente a: {output_path}\")"
      ],
      "metadata": {
        "colab": {
          "base_uri": "https://localhost:8080/"
        },
        "id": "aUCDtj2C0tt1",
        "outputId": "1da46118-ec51-4bff-a0eb-089556d074a4"
      },
      "execution_count": 17,
      "outputs": [
        {
          "output_type": "stream",
          "name": "stdout",
          "text": [
            "Dataset exportado exitosamente a: /content/drive/MyDrive/CAMBIX/RFM/RFM_Cambix_End.csv\n"
          ]
        }
      ]
    }
  ]
}